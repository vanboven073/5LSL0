{
 "cells": [
  {
   "cell_type": "code",
   "execution_count": 1,
   "metadata": {},
   "outputs": [
    {
     "name": "stderr",
     "output_type": "stream",
     "text": [
      "c:\\Users\\amin2\\anaconda3\\envs\\MachineLearningSignalProcessing\\lib\\site-packages\\tqdm\\auto.py:21: TqdmWarning: IProgress not found. Please update jupyter and ipywidgets. See https://ipywidgets.readthedocs.io/en/stable/user_install.html\n",
      "  from .autonotebook import tqdm as notebook_tqdm\n"
     ]
    }
   ],
   "source": [
    "from MNIST_dataloader import Noisy_MNIST\n",
    "from Fast_MRI_dataloader import Fast_MRI\n",
    "import matplotlib.pyplot as plt\n",
    "import torch.nn as nn\n",
    "import torch\n",
    "import torch.optim as optim\n",
    "from torch.utils.data import Dataset,DataLoader\n",
    "from torchvision import transforms\n",
    "from torch.utils.data import TensorDataset\n",
    "import glob\n",
    "import numpy as np\n",
    "from tqdm.auto import tqdm \n",
    "from PIL import Image\n",
    "import numpy as np\n",
    "from torch.fft import fft2, fftshift, ifft2, ifftshift"
   ]
  },
  {
   "cell_type": "code",
   "execution_count": 2,
   "metadata": {},
   "outputs": [],
   "source": [
    "# %% dataloader for the Fast MRI dataset\n",
    "def create_dataloaders_mri(data_loc, batch_size):\n",
    "    dataset_train = Fast_MRI(\"train\", data_loc)\n",
    "    dataset_test  = Fast_MRI(\"test\" , data_loc)\n",
    "    \n",
    "    Fast_MRI_train_loader =  DataLoader(dataset_train, batch_size=batch_size, shuffle=True,  drop_last=False)\n",
    "    Fast_MRI_test_loader  =  DataLoader(dataset_test , batch_size=batch_size, shuffle=True, drop_last=False)\n",
    "    \n",
    "    return Fast_MRI_train_loader, Fast_MRI_test_loader"
   ]
  },
  {
   "cell_type": "code",
   "execution_count": 3,
   "metadata": {},
   "outputs": [],
   "source": [
    "# Bram\n",
    "#data_loc = 'D://5LSL0-Datasets//Fast_MRI_Knee' #change the datalocation to something that works for you\n",
    "#Amin \n",
    "data_loc = 'C:/Users/amin2/Documents/School/5LSL0ML/5LSL0/data/Fast_MRI_Knee'\n",
    "\n",
    "\n",
    "# define parameters\n",
    "batch_size = 8\n",
    "\n",
    "train_loader, test_loader = create_dataloaders_mri(data_loc, batch_size)"
   ]
  },
  {
   "cell_type": "code",
   "execution_count": 5,
   "metadata": {},
   "outputs": [],
   "source": [
    "class ConvNet(nn.Module):\n",
    "    def __init__(self):\n",
    "        super(ConvNet, self, ).__init__()\n",
    "        self.conv1 = nn.Conv2d(in_channels=1, out_channels=16, kernel_size=3, stride=1, padding=1)\n",
    "        self.bn1 = nn.BatchNorm2d(16)\n",
    "        self.relu1 = nn.LeakyReLU()\n",
    "        self.conv2 = nn.Conv2d(in_channels=16, out_channels=32, kernel_size=3, stride=1, padding=1)\n",
    "        self.deconv2 = nn.ConvTranspose2d(in_channels=32, out_channels=16, kernel_size=3, stride=1, padding=1)\n",
    "        self.deconv1 = nn.ConvTranspose2d(in_channels=16, out_channels=1, kernel_size=3, stride=1, padding=1)\n",
    "\n",
    "\n",
    "    def forward(self, x):\n",
    "        x = self.conv1(x)\n",
    "        x = self.bn1(x)\n",
    "        x = self.relu1(x)\n",
    "        x = self.conv2(x)\n",
    "        x = self.deconv2(x)\n",
    "        x = self.deconv1(x)\n",
    "        return x"
   ]
  },
  {
   "cell_type": "code",
   "execution_count": 6,
   "metadata": {},
   "outputs": [],
   "source": [
    "# Define function to achieve Full k-space\n",
    "def get_k_space(inputs):\n",
    "    k_space = fftshift(fft2(inputs))\n",
    "    return k_space\n",
    "\n",
    "# Define function to achieve Partial k-space from Full k-space and Mask\n",
    "def get_partial_k_space(input,M):\n",
    "    return  torch.mul(input, M)\n",
    "\n",
    "def get_accelerate_MRI(inputs):\n",
    "    return ifft2(inputs)"
   ]
  },
  {
   "cell_type": "code",
   "execution_count": 11,
   "metadata": {},
   "outputs": [
    {
     "name": "stdout",
     "output_type": "stream",
     "text": [
      "0\n",
      "1\n",
      "2\n",
      "3\n",
      "4\n"
     ]
    }
   ],
   "source": [
    "\n",
    "\n",
    "criterion = nn.MSELoss()\n",
    "num_epochs = 10\n",
    "#unfolding steps\n",
    "num_iterations = 5\n",
    "model1 = ConvNet()\n",
    "model2 = ConvNet()\n",
    "model3 = ConvNet()\n",
    "model4 = ConvNet()\n",
    "model5 = ConvNet()\n",
    "\n",
    "optimizer1 = optim.Adam( model1.parameters(), lr=0.001)\n",
    "optimizer2 = optim.Adam( model2.parameters(), lr=0.001)\n",
    "optimizer3 = optim.Adam( model3.parameters(), lr=0.001)\n",
    "optimizer4 = optim.Adam( model4.parameters(), lr=0.001)\n",
    "optimizer5 = optim.Adam( model5.parameters(), lr=0.001)\n",
    "mu = 0.1"
   ]
  },
  {
   "cell_type": "code",
   "execution_count": 20,
   "metadata": {},
   "outputs": [
    {
     "name": "stderr",
     "output_type": "stream",
     "text": [
      "Epoch [0/10]:   0%|          | 0/94 [00:01<?, ?it/s]\n"
     ]
    },
    {
     "ename": "RuntimeError",
     "evalue": "one of the variables needed for gradient computation has been modified by an inplace operation: [torch.FloatTensor [16, 1, 3, 3]] is at version 6; expected version 5 instead. Hint: enable anomaly detection to find the operation that failed to compute its gradient, with torch.autograd.set_detect_anomaly(True).",
     "output_type": "error",
     "traceback": [
      "\u001b[1;31m---------------------------------------------------------------------------\u001b[0m",
      "\u001b[1;31mRuntimeError\u001b[0m                              Traceback (most recent call last)",
      "Cell \u001b[1;32mIn[20], line 51\u001b[0m\n\u001b[0;32m     49\u001b[0m \u001b[39melif\u001b[39;00m(\u001b[39miter\u001b[39m \u001b[39m==\u001b[39m \u001b[39m1\u001b[39m):\n\u001b[0;32m     50\u001b[0m     loss2 \u001b[39m=\u001b[39m criterion(x_t, gt_label)\n\u001b[1;32m---> 51\u001b[0m     loss2\u001b[39m.\u001b[39;49mbackward(retain_graph\u001b[39m=\u001b[39;49m \u001b[39mTrue\u001b[39;49;00m)\n\u001b[0;32m     52\u001b[0m     optimizer2\u001b[39m.\u001b[39mstep()\n\u001b[0;32m     53\u001b[0m \u001b[39melif\u001b[39;00m(\u001b[39miter\u001b[39m \u001b[39m==\u001b[39m \u001b[39m2\u001b[39m):\n",
      "File \u001b[1;32mc:\\Users\\amin2\\anaconda3\\envs\\MachineLearningSignalProcessing\\lib\\site-packages\\torch\\_tensor.py:487\u001b[0m, in \u001b[0;36mTensor.backward\u001b[1;34m(self, gradient, retain_graph, create_graph, inputs)\u001b[0m\n\u001b[0;32m    477\u001b[0m \u001b[39mif\u001b[39;00m has_torch_function_unary(\u001b[39mself\u001b[39m):\n\u001b[0;32m    478\u001b[0m     \u001b[39mreturn\u001b[39;00m handle_torch_function(\n\u001b[0;32m    479\u001b[0m         Tensor\u001b[39m.\u001b[39mbackward,\n\u001b[0;32m    480\u001b[0m         (\u001b[39mself\u001b[39m,),\n\u001b[1;32m   (...)\u001b[0m\n\u001b[0;32m    485\u001b[0m         inputs\u001b[39m=\u001b[39minputs,\n\u001b[0;32m    486\u001b[0m     )\n\u001b[1;32m--> 487\u001b[0m torch\u001b[39m.\u001b[39;49mautograd\u001b[39m.\u001b[39;49mbackward(\n\u001b[0;32m    488\u001b[0m     \u001b[39mself\u001b[39;49m, gradient, retain_graph, create_graph, inputs\u001b[39m=\u001b[39;49minputs\n\u001b[0;32m    489\u001b[0m )\n",
      "File \u001b[1;32mc:\\Users\\amin2\\anaconda3\\envs\\MachineLearningSignalProcessing\\lib\\site-packages\\torch\\autograd\\__init__.py:200\u001b[0m, in \u001b[0;36mbackward\u001b[1;34m(tensors, grad_tensors, retain_graph, create_graph, grad_variables, inputs)\u001b[0m\n\u001b[0;32m    195\u001b[0m     retain_graph \u001b[39m=\u001b[39m create_graph\n\u001b[0;32m    197\u001b[0m \u001b[39m# The reason we repeat same the comment below is that\u001b[39;00m\n\u001b[0;32m    198\u001b[0m \u001b[39m# some Python versions print out the first line of a multi-line function\u001b[39;00m\n\u001b[0;32m    199\u001b[0m \u001b[39m# calls in the traceback and some print out the last line\u001b[39;00m\n\u001b[1;32m--> 200\u001b[0m Variable\u001b[39m.\u001b[39;49m_execution_engine\u001b[39m.\u001b[39;49mrun_backward(  \u001b[39m# Calls into the C++ engine to run the backward pass\u001b[39;49;00m\n\u001b[0;32m    201\u001b[0m     tensors, grad_tensors_, retain_graph, create_graph, inputs,\n\u001b[0;32m    202\u001b[0m     allow_unreachable\u001b[39m=\u001b[39;49m\u001b[39mTrue\u001b[39;49;00m, accumulate_grad\u001b[39m=\u001b[39;49m\u001b[39mTrue\u001b[39;49;00m)\n",
      "\u001b[1;31mRuntimeError\u001b[0m: one of the variables needed for gradient computation has been modified by an inplace operation: [torch.FloatTensor [16, 1, 3, 3]] is at version 6; expected version 5 instead. Hint: enable anomaly detection to find the operation that failed to compute its gradient, with torch.autograd.set_detect_anomaly(True)."
     ]
    }
   ],
   "source": [
    "for epoch in range(num_epochs):\n",
    "    train_loss = 0.0\n",
    "    count = 0\n",
    "\n",
    "    # Training loop\n",
    "    loop = tqdm(train_loader)\n",
    "    loop.set_description(f\"Epoch [{epoch}/{num_epochs}]\")\n",
    "    for i,(kspace, M, gt) in enumerate(loop):\n",
    "        gt_label = gt.unsqueeze(1)\n",
    "        kspace_input = kspace.unsqueeze(1)\n",
    "        acc_mri = torch.abs(ifft2(kspace_input))\n",
    "        x_t = acc_mri\n",
    "\n",
    "        for iter in range(num_iterations):\n",
    "\n",
    "            if(iter == 0):\n",
    "                model1.train()\n",
    "                optimizer1.zero_grad()\n",
    "                x_t = model1(x_t)\n",
    "            elif(iter == 1):\n",
    "                model2.train()\n",
    "                optimizer2.zero_grad()\n",
    "                x_t = model2(x_t)\n",
    "            elif(iter == 2):\n",
    "                model3.train()\n",
    "                optimizer3.zero_grad()\n",
    "                x_t = model3(x_t)\n",
    "            elif(iter == 3):\n",
    "                model4.train()\n",
    "                optimizer4.zero_grad()\n",
    "                x_t = model4(x_t)\n",
    "            elif(iter == 4):\n",
    "                model5.train()\n",
    "                optimizer5.zero_grad()\n",
    "                x_t = model5(x_t)\n",
    "            F_x = get_k_space(x_t)\n",
    "            k_space_y = get_k_space(acc_mri)\n",
    "            F_x = torch.squeeze(F_x, dim=1) \n",
    "            k_space_y = torch.squeeze(k_space_y, dim=1) \n",
    "            z = F_x - mu * get_partial_k_space(F_x, M) + mu * get_partial_k_space(k_space_y, M)\n",
    "            z = torch.unsqueeze(z, dim=1) \n",
    "            x_t = torch.abs(get_accelerate_MRI(z))\n",
    "\n",
    "\n",
    "        loss = criterion(x_t, gt_label)\n",
    "        loss.backward()\n",
    "        optimizer1.step()\n",
    "        optimizer2.step()\n",
    "        optimizer3.step()\n",
    "        optimizer4.step()\n",
    "        optimizer5.step()\n",
    "        count+=1\n",
    "        train_loss += loss.item() #* kspace_input.size(0)\n",
    "        loop.set_postfix(loss=loss.item())\n",
    "    count_test = 0\n",
    "    test_loss = 0\n",
    "    # Testing loop\n",
    "    with torch.no_grad():\n",
    "       loop = tqdm(test_loader)\n",
    "       for i,(kspace_t, M_t, gt_t) in enumerate(loop):\n",
    "            gt_label_t = gt_t.unsqueeze(1)\n",
    "            kspace_input_t = kspace_t.unsqueeze(1)\n",
    "            acc_mri_t = torch.abs(ifft2(kspace_input_t))\n",
    "            x_t = acc_mri_t\n",
    "\n",
    "            for iter in range(num_iterations):\n",
    "                if(iter == 0):\n",
    "                    model1.eval()\n",
    "                    x_t = model1(x_t)\n",
    "                elif(iter == 1):\n",
    "                    model2.eval()\n",
    "                    x_t = model2(x_t)\n",
    "                elif(iter == 2):\n",
    "                    model3.eval()\n",
    "                    x_t = model3(x_t)\n",
    "                elif(iter == 3):\n",
    "                    model4.eval()\n",
    "                    x_t = model4(x_t)\n",
    "                elif(iter == 4):\n",
    "                    model5.eval()\n",
    "                    x_t = model5(x_t)\n",
    "                F_x = get_k_space(x_t)\n",
    "\n",
    "                k_space_y = get_k_space(acc_mri_t)\n",
    "                F_x = torch.squeeze(F_x, dim=1) \n",
    "                k_space_y = torch.squeeze(k_space_y, dim=1) \n",
    "                z = F_x - mu * get_partial_k_space(F_x, M) + mu * get_partial_k_space(k_space_y, M)\n",
    "                z = torch.unsqueeze(z, dim=1) \n",
    "                x_t = torch.abs(get_accelerate_MRI(z))\n",
    "            loss = criterion(x_t, gt_label_t)\n",
    "            count_test +=1\n",
    "            test_loss += loss.item() #* kspace_input.size(0)\n",
    "            loop.set_postfix(loss=loss.item())\n",
    "\n",
    "    # Calculate average losses\n",
    "    train_loss /= count\n",
    "    test_loss /= count_test\n",
    "\n",
    "    # train_losses.append(train_loss)\n",
    "    # test_losses.append(test_loss)\n",
    "\n",
    "    # Print epoch-wise loss\n",
    "    print(f\"Epoch {epoch+1}: Train Loss = {train_loss:.4f}, Test Loss = {test_loss:.4f}\")\n",
    "\n"
   ]
  }
 ],
 "metadata": {
  "kernelspec": {
   "display_name": "MachineLearningSignalProcessing",
   "language": "python",
   "name": "python3"
  },
  "language_info": {
   "codemirror_mode": {
    "name": "ipython",
    "version": 3
   },
   "file_extension": ".py",
   "mimetype": "text/x-python",
   "name": "python",
   "nbconvert_exporter": "python",
   "pygments_lexer": "ipython3",
   "version": "3.9.16"
  },
  "orig_nbformat": 4
 },
 "nbformat": 4,
 "nbformat_minor": 2
}
