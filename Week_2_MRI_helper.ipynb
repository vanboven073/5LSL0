{
 "cells": [
  {
   "cell_type": "code",
   "execution_count": null,
   "metadata": {},
   "outputs": [],
   "source": [
    "from MNIST_dataloader import Noisy_MNIST\n",
    "from Fast_MRI_dataloader import Fast_MRI\n",
    "import matplotlib.pyplot as plt\n",
    "import torch.nn as nn\n",
    "import torch\n",
    "import torch.optim as optim\n",
    "from torch.utils.data import Dataset,DataLoader\n",
    "from torchvision import transforms\n",
    "from torch.utils.data import TensorDataset\n",
    "import glob\n",
    "import numpy as np\n",
    "from tqdm import tqdm \n",
    "from PIL import Image"
   ]
  },
  {
   "cell_type": "code",
   "execution_count": null,
   "metadata": {},
   "outputs": [],
   "source": [
    "# %% dataloader for the Fast MRI dataset\n",
    "def create_dataloaders_mri(data_loc, batch_size):\n",
    "    dataset_train = Fast_MRI(\"train\", data_loc)\n",
    "    dataset_test  = Fast_MRI(\"test\" , data_loc)\n",
    "    \n",
    "    Fast_MRI_train_loader =  DataLoader(dataset_train, batch_size=batch_size, shuffle=True,  drop_last=False)\n",
    "    Fast_MRI_test_loader  =  DataLoader(dataset_test , batch_size=batch_size, shuffle=True, drop_last=False)\n",
    "    \n",
    "    return Fast_MRI_train_loader, Fast_MRI_test_loader"
   ]
  }
 ],
 "metadata": {
  "language_info": {
   "name": "python"
  },
  "orig_nbformat": 4
 },
 "nbformat": 4,
 "nbformat_minor": 2
}
